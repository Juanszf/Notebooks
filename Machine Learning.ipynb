{
 "cells": [
  {
   "cell_type": "markdown",
   "id": "fae7837e",
   "metadata": {},
   "source": [
    "# Linear Regression\n",
    "Linear Regression is the process to predicting a continuous values.\n",
    "We have two types of variables in regression: Dependent variable and independent variable.\n",
    "\n",
    "Dependent Variable: Is our target in prediction and is notated by \"Y\". The dependent variables is ALWAYS a continuous value\n",
    "\n",
    "Independent Variable: Is the explanatory variables and is notated by \"X\". We can predict the dependent variable using one or more independent variables. The independent variable can be a continuous value or a categorical value.\n",
    "* ### Simple Linear Regression\n",
    "A Simple Linear Regression is a model that predict a dependent variable using only one independent variable\n",
    "* ### Multiple Linear Regression\n",
    "A Multiple Linear Regression is a model that predict a dependent variable using two or more independent variables\n",
    "\n"
   ]
  },
  {
   "cell_type": "markdown",
   "id": "e09c07ac",
   "metadata": {},
   "source": []
  },
  {
   "cell_type": "markdown",
   "id": "913523df",
   "metadata": {},
   "source": [
    "# How does Linear Regression works?\n",
    "**Yhat = b0 + b1 * x1 + e**<br>\n",
    "**Yhat (Y^)** is the notation for predict results.<br>\n",
    "**b0** and **b1** are the **linear coeficients**.<br>\n",
    "**x1** is the **independent variable**.<br>\n",
    "**e** is the error between the predict and the real result<br>\n",
    "\n",
    "### How to find the coeficients parameters?\n",
    "b1 = SUM(Xi - Xmean)\n",
    "\n",
    "### How to fit the best line for linear regression models?\n",
    "To fit the best line, we need to minimize the Mean Square Error (MSE).<br><br>\n",
    "\n",
    "**MSE = 1/n * SUM(Yi - Yhati)²**<br>\n",
    "**Yi** is each real point in our graph<br>\n",
    "**Yhati** is each predict point<br>\n",
    "Summarizing, MSE is the mean of the differences between<br>\n",
    "\n"
   ]
  },
  {
   "cell_type": "code",
   "execution_count": null,
   "id": "d56bd32e",
   "metadata": {},
   "outputs": [],
   "source": []
  },
  {
   "cell_type": "code",
   "execution_count": null,
   "id": "f94b50ef",
   "metadata": {},
   "outputs": [],
   "source": []
  },
  {
   "cell_type": "code",
   "execution_count": null,
   "id": "fc3d895a",
   "metadata": {},
   "outputs": [],
   "source": []
  },
  {
   "cell_type": "code",
   "execution_count": null,
   "id": "94a07140",
   "metadata": {},
   "outputs": [],
   "source": []
  },
  {
   "cell_type": "code",
   "execution_count": null,
   "id": "86889139",
   "metadata": {},
   "outputs": [],
   "source": []
  },
  {
   "cell_type": "code",
   "execution_count": null,
   "id": "ed9ac32c",
   "metadata": {},
   "outputs": [],
   "source": []
  },
  {
   "cell_type": "code",
   "execution_count": null,
   "id": "6a3ee77e",
   "metadata": {},
   "outputs": [],
   "source": []
  },
  {
   "cell_type": "code",
   "execution_count": null,
   "id": "cc9beeb0",
   "metadata": {},
   "outputs": [],
   "source": []
  },
  {
   "cell_type": "code",
   "execution_count": null,
   "id": "56d30827",
   "metadata": {},
   "outputs": [],
   "source": []
  },
  {
   "cell_type": "code",
   "execution_count": null,
   "id": "ff647245",
   "metadata": {},
   "outputs": [],
   "source": []
  },
  {
   "cell_type": "code",
   "execution_count": null,
   "id": "7e00c6e6",
   "metadata": {},
   "outputs": [],
   "source": []
  },
  {
   "cell_type": "code",
   "execution_count": null,
   "id": "bd3f4ad4",
   "metadata": {},
   "outputs": [],
   "source": []
  },
  {
   "cell_type": "code",
   "execution_count": null,
   "id": "ad839897",
   "metadata": {},
   "outputs": [],
   "source": []
  },
  {
   "cell_type": "code",
   "execution_count": null,
   "id": "bf197ea6",
   "metadata": {},
   "outputs": [],
   "source": []
  },
  {
   "cell_type": "code",
   "execution_count": null,
   "id": "f37cf479",
   "metadata": {},
   "outputs": [],
   "source": []
  },
  {
   "cell_type": "code",
   "execution_count": null,
   "id": "b2c78f74",
   "metadata": {},
   "outputs": [],
   "source": []
  },
  {
   "cell_type": "code",
   "execution_count": null,
   "id": "bdc0a36c",
   "metadata": {},
   "outputs": [],
   "source": []
  },
  {
   "cell_type": "code",
   "execution_count": null,
   "id": "acea6236",
   "metadata": {},
   "outputs": [],
   "source": []
  },
  {
   "cell_type": "code",
   "execution_count": null,
   "id": "725f42df",
   "metadata": {},
   "outputs": [],
   "source": []
  }
 ],
 "metadata": {
  "kernelspec": {
   "display_name": "Python 3",
   "language": "python",
   "name": "python3"
  },
  "language_info": {
   "codemirror_mode": {
    "name": "ipython",
    "version": 3
   },
   "file_extension": ".py",
   "mimetype": "text/x-python",
   "name": "python",
   "nbconvert_exporter": "python",
   "pygments_lexer": "ipython3",
   "version": "3.8.8"
  }
 },
 "nbformat": 4,
 "nbformat_minor": 5
}

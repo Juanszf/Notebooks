{
 "cells": [
  {
   "cell_type": "markdown",
   "id": "fae7837e",
   "metadata": {},
   "source": [
    "# Linear Regression\n",
    "Linear Regression is the process to predicting a continuous values.\n",
    "We have two types of variables in regression: Dependent variable and independent variable.\n",
    "\n",
    "Dependent Variable: Is our target in prediction and is notated by \"Y\". The dependent variables is ALWAYS a continuous value\n",
    "\n",
    "Independent Variable: Is the explanatory variables and is notated by \"X\". We can predict the dependent variable using one or more independent variables. The independent variable can be a continuous value or a categorical value.\n",
    "* ### Simple Linear Regression\n",
    "A Simple Linear Regression is a model that predict a dependent variable using only one independent variable\n",
    "* ### Multiple Linear Regression\n",
    "A Multiple Linear Regression is a model that predict a dependent variable using two or more independent variables\n",
    "\n"
   ]
  },
  {
   "cell_type": "markdown",
   "id": "e09c07ac",
   "metadata": {},
   "source": [
    "# How does Linear Regression works?\n",
    "**Yhat = b0 + b1 * x1 + e**<br>\n",
    "**Yhat (Y^)** is the notation for predict results.<br>\n",
    "**b0** and **b1** are the **linear coeficients**.<br>\n",
    "**x1** is the **independent variable**.<br>\n",
    "**e** is the error between the predict and the real result<br>"
   ]
  },
  {
   "cell_type": "markdown",
   "id": "913523df",
   "metadata": {},
   "source": [
    "### How to find the coeficients parameters?\n",
    "\n",
    "<img src=\"Formulas/yhat.jpg\" align=\"left\">\n"
   ]
  },
  {
   "cell_type": "markdown",
   "id": "b9bd2e5e",
   "metadata": {},
   "source": [
    "### How to fit the best line for linear regression models?\n",
    "We need to minimize the Mean Square Error<br><br>\n",
    "\n",
    "<div>\n",
    "    <img src=\"Formulas/MSE.jpg\" align=\"left\">\n",
    "    Yi is each real point in our graph<br>\n",
    "    Yhati is each predict point<br>\n",
    "</div>"
   ]
  },
  {
   "cell_type": "markdown",
   "id": "06636db4",
   "metadata": {},
   "source": [
    "### Metrics we can use to evaluate a model\n",
    "\n",
    "<div>\n",
    "    <img src=\"Formulas/LRmetrics.jpg\" align=\"left\">\n",
    "</div>\n"
   ]
  },
  {
   "cell_type": "markdown",
   "id": "60065067",
   "metadata": {},
   "source": [
    "\n",
    "### How is the syntax of sklearn to build a Linear Regression model?\n",
    "from sklearn import linear_model<br>\n",
    "lr = linear_model.LinearRegression()<br>\n",
    "x = We need to pass to x the independent variable of our dataset<br>\n",
    "y = We need to pass to y the dependent variable (our taget on predict)<br>\n",
    "<br>\n",
    "lr.intercept shows the coeficient b0<br>\n",
    "lr.coef shows the coeficients of the model (independent variables)<br>\n",
    "lr.score shows the R Square<br>\n"
   ]
  },
  {
   "cell_type": "markdown",
   "id": "b5091c17",
   "metadata": {},
   "source": [
    "# Polynomial Regression\n",
    "$$\n",
    "Yhat = b0 + b1*x1 + b2*x2² + b3*x3³...\n",
    "$$\n",
    "\n",
    "                            We can transform the polynomial regression above into a linear regression\n",
    "\n",
    "$$\n",
    "x1 = x1\n",
    "$$\n",
    "$$\n",
    "x2 = x2²\n",
    "$$\n",
    "$$\n",
    "x3 = x3³\n",
    "$$\n",
    "$$\n",
    "Yhat = b0 + b1*x1 + b2*x2 + b3*x3\n",
    "$$"
   ]
  },
  {
   "cell_type": "code",
   "execution_count": null,
   "id": "86889139",
   "metadata": {},
   "outputs": [],
   "source": []
  },
  {
   "cell_type": "code",
   "execution_count": null,
   "id": "ed9ac32c",
   "metadata": {},
   "outputs": [],
   "source": []
  },
  {
   "cell_type": "code",
   "execution_count": null,
   "id": "6a3ee77e",
   "metadata": {},
   "outputs": [],
   "source": []
  },
  {
   "cell_type": "code",
   "execution_count": null,
   "id": "cc9beeb0",
   "metadata": {},
   "outputs": [],
   "source": []
  },
  {
   "cell_type": "code",
   "execution_count": null,
   "id": "56d30827",
   "metadata": {},
   "outputs": [],
   "source": []
  },
  {
   "cell_type": "code",
   "execution_count": null,
   "id": "ff647245",
   "metadata": {},
   "outputs": [],
   "source": []
  },
  {
   "cell_type": "code",
   "execution_count": null,
   "id": "7e00c6e6",
   "metadata": {},
   "outputs": [],
   "source": []
  },
  {
   "cell_type": "code",
   "execution_count": null,
   "id": "bd3f4ad4",
   "metadata": {},
   "outputs": [],
   "source": []
  },
  {
   "cell_type": "code",
   "execution_count": null,
   "id": "ad839897",
   "metadata": {},
   "outputs": [],
   "source": []
  },
  {
   "cell_type": "code",
   "execution_count": null,
   "id": "bf197ea6",
   "metadata": {},
   "outputs": [],
   "source": []
  },
  {
   "cell_type": "code",
   "execution_count": null,
   "id": "f37cf479",
   "metadata": {},
   "outputs": [],
   "source": []
  },
  {
   "cell_type": "code",
   "execution_count": null,
   "id": "b2c78f74",
   "metadata": {},
   "outputs": [],
   "source": []
  },
  {
   "cell_type": "code",
   "execution_count": null,
   "id": "bdc0a36c",
   "metadata": {},
   "outputs": [],
   "source": []
  },
  {
   "cell_type": "code",
   "execution_count": null,
   "id": "acea6236",
   "metadata": {},
   "outputs": [],
   "source": []
  },
  {
   "cell_type": "code",
   "execution_count": null,
   "id": "725f42df",
   "metadata": {},
   "outputs": [],
   "source": []
  }
 ],
 "metadata": {
  "kernelspec": {
   "display_name": "Python 3",
   "language": "python",
   "name": "python3"
  },
  "language_info": {
   "codemirror_mode": {
    "name": "ipython",
    "version": 3
   },
   "file_extension": ".py",
   "mimetype": "text/x-python",
   "name": "python",
   "nbconvert_exporter": "python",
   "pygments_lexer": "ipython3",
   "version": "3.8.8"
  }
 },
 "nbformat": 4,
 "nbformat_minor": 5
}

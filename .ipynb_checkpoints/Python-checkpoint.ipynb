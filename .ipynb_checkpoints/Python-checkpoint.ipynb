{
 "cells": [
  {
   "cell_type": "markdown",
   "id": "d2a44994",
   "metadata": {},
   "source": [
    "# Variáveis\n"
   ]
  },
  {
   "cell_type": "code",
   "execution_count": 3,
   "id": "14248708",
   "metadata": {},
   "outputs": [
    {
     "name": "stdout",
     "output_type": "stream",
     "text": [
      "5\n"
     ]
    }
   ],
   "source": [
    "\"\"\"Variáveis são espaços na memória que armazenam valores.\n",
    "Esses valores podem ser acessados pelo o identificador da variável que você escolher\n",
    "\n",
    "No exemplo abaixo, estamos definindo que o nome da variável será 'x' e atribuímos o valor 5 à esta variável\"\"\"\n",
    "\n",
    "x = 5\n",
    "print(x)"
   ]
  },
  {
   "cell_type": "code",
   "execution_count": 4,
   "id": "4254f58a",
   "metadata": {},
   "outputs": [
    {
     "data": {
      "text/plain": [
       "int"
      ]
     },
     "execution_count": 4,
     "metadata": {},
     "output_type": "execute_result"
    }
   ],
   "source": [
    "\"\"\"Os dados armazenados dentro de uma variável podem ser de diversos tipos (veremos mais à frente).\n",
    "Para visualizar o tipo de uma variável, podemos usar a função 'type'\n",
    "\n",
    "No exemplo abaixo ao verificarmos o tipo da variável 'x', recebemos o tipo dela: 'int' \"\"\"\n",
    "\n",
    "type(x)"
   ]
  },
  {
   "cell_type": "code",
   "execution_count": 6,
   "id": "dcec6d58",
   "metadata": {},
   "outputs": [
    {
     "name": "stdout",
     "output_type": "stream",
     "text": [
      "127.5\n"
     ]
    },
    {
     "data": {
      "text/plain": [
       "float"
      ]
     },
     "execution_count": 6,
     "metadata": {},
     "output_type": "execute_result"
    }
   ],
   "source": [
    "\"\"\"Você pode armazenar o resultado de diversas operações dentro de uma variável\"\"\"\n",
    "\n",
    "x = (85*3)/2\n",
    "print(x)\n",
    "type(x)"
   ]
  },
  {
   "cell_type": "code",
   "execution_count": 7,
   "id": "412504e6",
   "metadata": {},
   "outputs": [
    {
     "name": "stdout",
     "output_type": "stream",
     "text": [
      "Hello World\n"
     ]
    },
    {
     "data": {
      "text/plain": [
       "str"
      ]
     },
     "execution_count": 7,
     "metadata": {},
     "output_type": "execute_result"
    }
   ],
   "source": [
    "x = 'Hello World'\n",
    "print(x)\n",
    "type(x)"
   ]
  },
  {
   "cell_type": "code",
   "execution_count": 9,
   "id": "d4a9fe4e",
   "metadata": {},
   "outputs": [
    {
     "name": "stdout",
     "output_type": "stream",
     "text": [
      "5 5 5\n",
      "3 10 100\n"
     ]
    }
   ],
   "source": [
    "\"\"\"Podemos atribuir à n variáveis o mesmo valor, ou fazer a atribuição de valores à várias variáveis ao mesmo tempo\"\"\"\n",
    "\n",
    "x = y = z = 5\n",
    "\n",
    "print(x, y, z)\n",
    "\n",
    "x, y, z = 3, 10, 100\n",
    "print(x, y, z)"
   ]
  },
  {
   "cell_type": "markdown",
   "id": "ca94095e",
   "metadata": {},
   "source": [
    "# Tipos de Dados\n",
    "* Texto\n",
    "* Numéricos: int, float, complex \n",
    "* Sequência: lista, tuplas, ranges\n",
    "* Mapeamento: Dicionários\n",
    "* Sets: Set, frozenset\n",
    "* Bool\n",
    "* Binários: bytes, bytearray, memoryview"
   ]
  },
  {
   "cell_type": "code",
   "execution_count": null,
   "id": "8a64020f",
   "metadata": {},
   "outputs": [],
   "source": []
  },
  {
   "cell_type": "code",
   "execution_count": null,
   "id": "e8620974",
   "metadata": {},
   "outputs": [],
   "source": []
  },
  {
   "cell_type": "code",
   "execution_count": null,
   "id": "3cb837bb",
   "metadata": {},
   "outputs": [],
   "source": []
  },
  {
   "cell_type": "code",
   "execution_count": null,
   "id": "3fe3c454",
   "metadata": {},
   "outputs": [],
   "source": []
  },
  {
   "cell_type": "code",
   "execution_count": null,
   "id": "b12f53fc",
   "metadata": {},
   "outputs": [],
   "source": []
  },
  {
   "cell_type": "code",
   "execution_count": null,
   "id": "507a6834",
   "metadata": {},
   "outputs": [],
   "source": []
  },
  {
   "cell_type": "code",
   "execution_count": null,
   "id": "0fcbf8e4",
   "metadata": {},
   "outputs": [],
   "source": []
  },
  {
   "cell_type": "code",
   "execution_count": null,
   "id": "4a08b5e2",
   "metadata": {},
   "outputs": [],
   "source": []
  },
  {
   "cell_type": "code",
   "execution_count": null,
   "id": "48cceeb4",
   "metadata": {},
   "outputs": [],
   "source": []
  }
 ],
 "metadata": {
  "kernelspec": {
   "display_name": "Python 3",
   "language": "python",
   "name": "python3"
  },
  "language_info": {
   "codemirror_mode": {
    "name": "ipython",
    "version": 3
   },
   "file_extension": ".py",
   "mimetype": "text/x-python",
   "name": "python",
   "nbconvert_exporter": "python",
   "pygments_lexer": "ipython3",
   "version": "3.8.8"
  }
 },
 "nbformat": 4,
 "nbformat_minor": 5
}
